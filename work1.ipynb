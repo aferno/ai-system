{
 "cells": [
  {
   "cell_type": "code",
   "execution_count": 1,
   "id": "3902d9d5-9529-48ba-8336-92282aaa5cda",
   "metadata": {},
   "outputs": [],
   "source": [
    "import pandas as pd\n",
    "import numpy as np\n",
    "from sklearn.linear_model import Ridge, RidgeCV\n",
    "from sklearn.model_selection import train_test_split\n",
    "from sklearn.metrics import mean_squared_error, r2_score\n",
    "from scipy import stats\n",
    "import matplotlib.pyplot as plt\n",
    "from yellowbrick.datasets import load_concrete\n",
    "from yellowbrick.regressor import ResidualsPlot"
   ]
  },
  {
   "cell_type": "code",
   "execution_count": 2,
   "id": "3f01e111-2713-48f7-a529-995e8468eca3",
   "metadata": {},
   "outputs": [],
   "source": [
    "df = pd.read_csv('Development Index.csv')"
   ]
  },
  {
   "cell_type": "code",
   "execution_count": 3,
   "id": "2bb000fb-122d-4d7c-aa26-05b62ede9a36",
   "metadata": {},
   "outputs": [
    {
     "data": {
      "text/html": [
       "<div>\n",
       "<style scoped>\n",
       "    .dataframe tbody tr th:only-of-type {\n",
       "        vertical-align: middle;\n",
       "    }\n",
       "\n",
       "    .dataframe tbody tr th {\n",
       "        vertical-align: top;\n",
       "    }\n",
       "\n",
       "    .dataframe thead th {\n",
       "        text-align: right;\n",
       "    }\n",
       "</style>\n",
       "<table border=\"1\" class=\"dataframe\">\n",
       "  <thead>\n",
       "    <tr style=\"text-align: right;\">\n",
       "      <th></th>\n",
       "      <th>Population</th>\n",
       "      <th>Area (sq. mi.)</th>\n",
       "      <th>Pop. Density</th>\n",
       "      <th>GDP ($ per capita)</th>\n",
       "      <th>Literacy (%)</th>\n",
       "      <th>Infant mortality</th>\n",
       "      <th>Development Index</th>\n",
       "    </tr>\n",
       "  </thead>\n",
       "  <tbody>\n",
       "    <tr>\n",
       "      <th>0</th>\n",
       "      <td>9944201</td>\n",
       "      <td>1284000</td>\n",
       "      <td>7.7</td>\n",
       "      <td>1200</td>\n",
       "      <td>47.5</td>\n",
       "      <td>93.82</td>\n",
       "      <td>2</td>\n",
       "    </tr>\n",
       "    <tr>\n",
       "      <th>1</th>\n",
       "      <td>5450661</td>\n",
       "      <td>43094</td>\n",
       "      <td>126.5</td>\n",
       "      <td>31100</td>\n",
       "      <td>100.0</td>\n",
       "      <td>4.56</td>\n",
       "      <td>4</td>\n",
       "    </tr>\n",
       "    <tr>\n",
       "      <th>2</th>\n",
       "      <td>26783383</td>\n",
       "      <td>437072</td>\n",
       "      <td>61.3</td>\n",
       "      <td>1500</td>\n",
       "      <td>40.4</td>\n",
       "      <td>50.25</td>\n",
       "      <td>2</td>\n",
       "    </tr>\n",
       "    <tr>\n",
       "      <th>3</th>\n",
       "      <td>9439</td>\n",
       "      <td>102</td>\n",
       "      <td>92.5</td>\n",
       "      <td>3400</td>\n",
       "      <td>97.0</td>\n",
       "      <td>7.35</td>\n",
       "      <td>4</td>\n",
       "    </tr>\n",
       "    <tr>\n",
       "      <th>4</th>\n",
       "      <td>3431932</td>\n",
       "      <td>176220</td>\n",
       "      <td>19.5</td>\n",
       "      <td>12800</td>\n",
       "      <td>98.0</td>\n",
       "      <td>11.95</td>\n",
       "      <td>3</td>\n",
       "    </tr>\n",
       "  </tbody>\n",
       "</table>\n",
       "</div>"
      ],
      "text/plain": [
       "   Population  Area (sq. mi.)  Pop. Density   GDP ($ per capita)  \\\n",
       "0     9944201         1284000            7.7                1200   \n",
       "1     5450661           43094          126.5               31100   \n",
       "2    26783383          437072           61.3                1500   \n",
       "3        9439             102           92.5                3400   \n",
       "4     3431932          176220           19.5               12800   \n",
       "\n",
       "   Literacy (%)  Infant mortality   Development Index  \n",
       "0          47.5              93.82                  2  \n",
       "1         100.0               4.56                  4  \n",
       "2          40.4              50.25                  2  \n",
       "3          97.0               7.35                  4  \n",
       "4          98.0              11.95                  3  "
      ]
     },
     "execution_count": 3,
     "metadata": {},
     "output_type": "execute_result"
    }
   ],
   "source": [
    "df.head()"
   ]
  },
  {
   "cell_type": "code",
   "execution_count": 4,
   "id": "c4156e12-48de-49a1-8e3e-1be4bc314522",
   "metadata": {},
   "outputs": [
    {
     "data": {
      "image/png": "[encoded data removed]",
      "text/plain": [
       "<Figure size 576x396 with 9 Axes>"
      ]
     },
     "metadata": {},
     "output_type": "display_data"
    }
   ],
   "source": [
    "hist = df.hist()"
   ]
  },
  {
   "cell_type": "code",
   "execution_count": 5,
   "id": "9e85bc8e-9ff2-48f2-943f-cddf3b68ab5e",
   "metadata": {},
   "outputs": [
    {
     "name": "stdout",
     "output_type": "stream",
     "text": [
      "Field=Population, Statistics=0.21025, p-value=0.00000000000000000000\n",
      "Field=Area (sq. mi.), Statistics=0.33794, p-value=0.00000000000000000000\n",
      "Field=Pop. Density , Statistics=0.19112, p-value=0.00000000000000000000\n",
      "Field=GDP ($ per capita), Statistics=0.82368, p-value=0.00000000000000295634\n",
      "Field=Literacy (%), Statistics=0.78405, p-value=0.00000000000000006416\n",
      "Field=Infant mortality , Statistics=0.82505, p-value=0.00000000000000340946\n",
      "Field=Development Index, Statistics=0.85028, p-value=0.00000000000005542899\n",
      "Statistics=0.05966, p-value=0.00000000000000000000\n"
     ]
    }
   ],
   "source": [
    "for name, content in df.iteritems():\n",
    "    stat, p = stats.shapiro(df[name])\n",
    "    print('Field=%s, Statistics=%.5f, p-value=%.20f' % (name, stat, p))\n",
    "    \n",
    "stat1, p1 = stats.shapiro(df)\n",
    "print('Statistics=%.5f, p-value=%.20f' % (stat1, p1))"
   ]
  },
  {
   "cell_type": "code",
   "execution_count": 9,
   "id": "06f7bf94-31a6-4bff-a486-360f81abb6db",
   "metadata": {},
   "outputs": [
    {
     "data": {
      "text/html": [
       "<div>\n",
       "<style scoped>\n",
       "    .dataframe tbody tr th:only-of-type {\n",
       "        vertical-align: middle;\n",
       "    }\n",
       "\n",
       "    .dataframe tbody tr th {\n",
       "        vertical-align: top;\n",
       "    }\n",
       "\n",
       "    .dataframe thead th {\n",
       "        text-align: right;\n",
       "    }\n",
       "</style>\n",
       "<table border=\"1\" class=\"dataframe\">\n",
       "  <thead>\n",
       "    <tr style=\"text-align: right;\">\n",
       "      <th></th>\n",
       "      <th>Pop. Density</th>\n",
       "      <th>Development Index</th>\n",
       "      <th>Area (sq. mi.)</th>\n",
       "    </tr>\n",
       "  </thead>\n",
       "  <tbody>\n",
       "    <tr>\n",
       "      <th>0</th>\n",
       "      <td>7.7</td>\n",
       "      <td>2</td>\n",
       "      <td>1284000</td>\n",
       "    </tr>\n",
       "    <tr>\n",
       "      <th>1</th>\n",
       "      <td>126.5</td>\n",
       "      <td>4</td>\n",
       "      <td>43094</td>\n",
       "    </tr>\n",
       "    <tr>\n",
       "      <th>2</th>\n",
       "      <td>61.3</td>\n",
       "      <td>2</td>\n",
       "      <td>437072</td>\n",
       "    </tr>\n",
       "    <tr>\n",
       "      <th>3</th>\n",
       "      <td>92.5</td>\n",
       "      <td>4</td>\n",
       "      <td>102</td>\n",
       "    </tr>\n",
       "    <tr>\n",
       "      <th>4</th>\n",
       "      <td>19.5</td>\n",
       "      <td>3</td>\n",
       "      <td>176220</td>\n",
       "    </tr>\n",
       "  </tbody>\n",
       "</table>\n",
       "</div>"
      ],
      "text/plain": [
       "   Pop. Density   Development Index  Area (sq. mi.)\n",
       "0            7.7                  2         1284000\n",
       "1          126.5                  4           43094\n",
       "2           61.3                  2          437072\n",
       "3           92.5                  4             102\n",
       "4           19.5                  3          176220"
      ]
     },
     "execution_count": 9,
     "metadata": {},
     "output_type": "execute_result"
    }
   ],
   "source": [
    "predict_columns = ['Population']\n",
    "predictors = list(set(list(df.columns))-set(predict_columns + ['GDP ($ per capita)', 'Literacy (%)', 'Infant mortality ']))\n",
    "#df[predictors] = df[predictors]/df[predictors].max()\n",
    "df[predictors].head()"
   ]
  },
  {
   "cell_type": "code",
   "execution_count": 10,
   "id": "60ecf5c2-bc18-4cac-92dc-d3f6fab87ff5",
   "metadata": {},
   "outputs": [],
   "source": [
    "X = df[predictors].values\n",
    "y = df[predict_columns].values\n",
    "X_train, X_test, y_train, y_test = train_test_split(X, y, random_state=0)"
   ]
  },
  {
   "cell_type": "code",
   "execution_count": 40,
   "id": "fd4c1e6e-3b8e-417e-9c2d-0e7abfc9b865",
   "metadata": {},
   "outputs": [
    {
     "name": "stdout",
     "output_type": "stream",
     "text": [
      "Правильность на train наборе: 0.13\n",
      "85413044.40060563\n",
      "0.13197534259902766\n"
     ]
    }
   ],
   "source": [
    "rr = Ridge(normalize=False)\n",
    "rr.fit(X, y)\n",
    "pred_train_rr= rr.predict(X_train)\n",
    "print(\"Правильность на train наборе: {:.2f}\".format(rr.score(X_train, y_train)))\n",
    "print(np.sqrt(mean_squared_error(y_train,pred_train_rr)))\n",
    "print(r2_score(y_train, pred_train_rr))"
   ]
  },
  {
   "cell_type": "code",
   "execution_count": 41,
   "id": "663af329-7c70-4556-a1b2-52abdd008cbf",
   "metadata": {},
   "outputs": [
    {
     "name": "stdout",
     "output_type": "stream",
     "text": [
      "Правильность на test наборе: 0.29\n",
      "145904523.0337263\n",
      "0.29387399329281727\n"
     ]
    }
   ],
   "source": [
    "pred_test_rr= rr.predict(X_test)\n",
    "print(\"Правильность на test наборе: {:.2f}\".format(rr.score(X_test, y_test)))\n",
    "print(np.sqrt(mean_squared_error(y_test,pred_test_rr)))\n",
    "print(r2_score(y_test, pred_test_rr))"
   ]
  },
  {
   "cell_type": "code",
   "execution_count": 42,
   "id": "5129fe84-bca3-4cb9-9f4d-d9fcaf684500",
   "metadata": {},
   "outputs": [
    {
     "data": {
      "image/png": "[encoded data removed]",
      "text/plain": [
       "<Figure size 576x396 with 2 Axes>"
      ]
     },
     "metadata": {},
     "output_type": "display_data"
    },
    {
     "data": {
      "text/plain": [
       "<AxesSubplot:title={'center':'Residuals for Ridge Model'}, xlabel='Predicted Value', ylabel='Residuals'>"
      ]
     },
     "execution_count": 42,
     "metadata": {},
     "output_type": "execute_result"
    }
   ],
   "source": [
    "visualizer = ResidualsPlot(rr)\n",
    "visualizer.fit(X_train, y_train)\n",
    "visualizer.score(X_test, y_test)  \n",
    "visualizer.show()"
   ]
  },
  {
   "cell_type": "code",
   "execution_count": 43,
   "id": "fde602ad-b361-4746-8ccb-b22b6509cdd2",
   "metadata": {},
   "outputs": [
    {
     "data": {
      "image/png": "[encoded data removed]",
      "text/plain": [
       "<Figure size 288x216 with 1 Axes>"
      ]
     },
     "metadata": {},
     "output_type": "display_data"
    }
   ],
   "source": [
    "plt.figure(figsize=(4, 3))\n",
    "plt.hist(pred_train_rr)\n",
    "plt.xlabel('Population')\n",
    "plt.ylabel('Count')\n",
    "plt.tight_layout()"
   ]
  },
  {
   "cell_type": "code",
   "execution_count": 44,
   "id": "1ab9c781-4fde-4f84-ae62-593b0f6e33dc",
   "metadata": {},
   "outputs": [
    {
     "data": {
      "text/plain": [
       "0.10813951529950516"
      ]
     },
     "execution_count": 44,
     "metadata": {},
     "output_type": "execute_result"
    }
   ],
   "source": [
    "ridgecv = RidgeCV(alphas = [0.1, 1, 0.01, 4], normalize = True)\n",
    "ridgecv.fit(X_train, y_train)\n",
    "ridgecv.alpha_\n",
    "ridgecv.score(X_train, y_train)"
   ]
  },
  {
   "cell_type": "code",
   "execution_count": 45,
   "id": "956bc9fb-3c10-4f3a-8ea8-9c398a3ddd54",
   "metadata": {},
   "outputs": [
    {
     "data": {
      "text/plain": [
       "159255302.7667539"
      ]
     },
     "execution_count": 45,
     "metadata": {},
     "output_type": "execute_result"
    }
   ],
   "source": [
    "ridge4 = Ridge(alpha = ridgecv.alpha_, normalize = True)\n",
    "ridge4.fit(X_train, y_train)\n",
    "np.sqrt(mean_squared_error(y_test, ridge4.predict(X_test)))"
   ]
  },
  {
   "cell_type": "code",
   "execution_count": null,
   "id": "62cf47f5-3572-465e-aa21-2aabb9888b8d",
   "metadata": {},
   "outputs": [],
   "source": []
  },
  {
   "cell_type": "code",
   "execution_count": null,
   "id": "48f7ef15-52a3-4410-ae7d-22ddea3b4d40",
   "metadata": {},
   "outputs": [],
   "source": []
  }
 ],
 "metadata": {
  "kernelspec": {
   "display_name": "Python 3",
   "language": "python",
   "name": "python3"
  },
  "language_info": {
   "codemirror_mode": {
    "name": "ipython",
    "version": 3
   },
   "file_extension": ".py",
   "mimetype": "text/x-python",
   "name": "python",
   "nbconvert_exporter": "python",
   "pygments_lexer": "ipython3",
   "version": "3.9.2"
  }
 },
 "nbformat": 4,
 "nbformat_minor": 5
}
