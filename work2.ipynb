{
 "cells": [
  {
   "cell_type": "code",
   "execution_count": 95,
   "id": "3902d9d5-9529-48ba-8336-92282aaa5cda",
   "metadata": {},
   "outputs": [],
   "source": [
    "import pandas as pd\n",
    "import numpy as np\n",
    "from sklearn.ensemble import RandomForestClassifier\n",
    "from sklearn.model_selection import train_test_split\n",
    "from sklearn.metrics import precision_recall_curve\n",
    "import matplotlib.pyplot as plt\n",
    "from sklearn import metrics\n",
    "from yellowbrick.datasets import load_concrete\n",
    "from yellowbrick.regressor import ResidualsPlot"
   ]
  },
  {
   "cell_type": "code",
   "execution_count": 8,
   "id": "3f01e111-2713-48f7-a529-995e8468eca3",
   "metadata": {},
   "outputs": [],
   "source": [
    "df = pd.read_csv('Development Index.csv')"
   ]
  },
  {
   "cell_type": "code",
   "execution_count": 9,
   "id": "2bb000fb-122d-4d7c-aa26-05b62ede9a36",
   "metadata": {},
   "outputs": [
    {
     "data": {
      "text/html": [
       "<div>\n",
       "<style scoped>\n",
       "    .dataframe tbody tr th:only-of-type {\n",
       "        vertical-align: middle;\n",
       "    }\n",
       "\n",
       "    .dataframe tbody tr th {\n",
       "        vertical-align: top;\n",
       "    }\n",
       "\n",
       "    .dataframe thead th {\n",
       "        text-align: right;\n",
       "    }\n",
       "</style>\n",
       "<table border=\"1\" class=\"dataframe\">\n",
       "  <thead>\n",
       "    <tr style=\"text-align: right;\">\n",
       "      <th></th>\n",
       "      <th>Population</th>\n",
       "      <th>Area (sq. mi.)</th>\n",
       "      <th>Pop. Density</th>\n",
       "      <th>GDP ($ per capita)</th>\n",
       "      <th>Literacy (%)</th>\n",
       "      <th>Infant mortality</th>\n",
       "      <th>Development Index</th>\n",
       "    </tr>\n",
       "  </thead>\n",
       "  <tbody>\n",
       "    <tr>\n",
       "      <th>0</th>\n",
       "      <td>9944201</td>\n",
       "      <td>1284000</td>\n",
       "      <td>7.7</td>\n",
       "      <td>1200</td>\n",
       "      <td>47.5</td>\n",
       "      <td>93.82</td>\n",
       "      <td>2</td>\n",
       "    </tr>\n",
       "    <tr>\n",
       "      <th>1</th>\n",
       "      <td>5450661</td>\n",
       "      <td>43094</td>\n",
       "      <td>126.5</td>\n",
       "      <td>31100</td>\n",
       "      <td>100.0</td>\n",
       "      <td>4.56</td>\n",
       "      <td>4</td>\n",
       "    </tr>\n",
       "    <tr>\n",
       "      <th>2</th>\n",
       "      <td>26783383</td>\n",
       "      <td>437072</td>\n",
       "      <td>61.3</td>\n",
       "      <td>1500</td>\n",
       "      <td>40.4</td>\n",
       "      <td>50.25</td>\n",
       "      <td>2</td>\n",
       "    </tr>\n",
       "    <tr>\n",
       "      <th>3</th>\n",
       "      <td>9439</td>\n",
       "      <td>102</td>\n",
       "      <td>92.5</td>\n",
       "      <td>3400</td>\n",
       "      <td>97.0</td>\n",
       "      <td>7.35</td>\n",
       "      <td>4</td>\n",
       "    </tr>\n",
       "    <tr>\n",
       "      <th>4</th>\n",
       "      <td>3431932</td>\n",
       "      <td>176220</td>\n",
       "      <td>19.5</td>\n",
       "      <td>12800</td>\n",
       "      <td>98.0</td>\n",
       "      <td>11.95</td>\n",
       "      <td>3</td>\n",
       "    </tr>\n",
       "  </tbody>\n",
       "</table>\n",
       "</div>"
      ],
      "text/plain": [
       "   Population  Area (sq. mi.)  Pop. Density   GDP ($ per capita)  \\\n",
       "0     9944201         1284000            7.7                1200   \n",
       "1     5450661           43094          126.5               31100   \n",
       "2    26783383          437072           61.3                1500   \n",
       "3        9439             102           92.5                3400   \n",
       "4     3431932          176220           19.5               12800   \n",
       "\n",
       "   Literacy (%)  Infant mortality   Development Index  \n",
       "0          47.5              93.82                  2  \n",
       "1         100.0               4.56                  4  \n",
       "2          40.4              50.25                  2  \n",
       "3          97.0               7.35                  4  \n",
       "4          98.0              11.95                  3  "
      ]
     },
     "execution_count": 9,
     "metadata": {},
     "output_type": "execute_result"
    }
   ],
   "source": [
    "df.head()"
   ]
  },
  {
   "cell_type": "code",
   "execution_count": 66,
   "id": "36c92014-c109-40d2-85b9-33a745d4044e",
   "metadata": {},
   "outputs": [
    {
     "data": {
      "image/png": "[encoded data removed]",
      "text/plain": [
       "<Figure size 576x396 with 9 Axes>"
      ]
     },
     "metadata": {},
     "output_type": "display_data"
    }
   ],
   "source": [
    "hist = df.hist()"
   ]
  },
  {
   "cell_type": "code",
   "execution_count": 97,
   "id": "9e85bc8e-9ff2-48f2-943f-cddf3b68ab5e",
   "metadata": {},
   "outputs": [],
   "source": [
    "X=df[['Population', 'Area (sq. mi.)', 'Pop. Density ', 'GDP ($ per capita)', 'Literacy (%)', 'Infant mortality ']]\n",
    "#Labels\n",
    "y=df['Development Index']"
   ]
  },
  {
   "cell_type": "code",
   "execution_count": 98,
   "id": "af39b7d8-b74b-43a5-b68f-7a034ab71fd3",
   "metadata": {},
   "outputs": [],
   "source": [
    "X_train, X_test, y_train, y_test = train_test_split(X, y, test_size=0.3)"
   ]
  },
  {
   "cell_type": "code",
   "execution_count": 99,
   "id": "06f7bf94-31a6-4bff-a486-360f81abb6db",
   "metadata": {},
   "outputs": [
    {
     "name": "stderr",
     "output_type": "stream",
     "text": [
      "[Parallel(n_jobs=1)]: Using backend SequentialBackend with 1 concurrent workers.\n",
      "[Parallel(n_jobs=1)]: Done 100 out of 100 | elapsed:    0.2s finished\n"
     ]
    },
    {
     "data": {
      "text/plain": [
       "RandomForestClassifier(verbose=1)"
      ]
     },
     "execution_count": 99,
     "metadata": {},
     "output_type": "execute_result"
    }
   ],
   "source": [
    "clf=RandomForestClassifier(n_estimators=100, verbose = 1)\n",
    "\n",
    "clf.fit(X_train,y_train)"
   ]
  },
  {
   "cell_type": "code",
   "execution_count": 100,
   "id": "07531a67-1424-4be7-a61d-8a0af7603e33",
   "metadata": {},
   "outputs": [
    {
     "name": "stderr",
     "output_type": "stream",
     "text": [
      "[Parallel(n_jobs=1)]: Using backend SequentialBackend with 1 concurrent workers.\n",
      "[Parallel(n_jobs=1)]: Done 100 out of 100 | elapsed:    0.0s finished\n"
     ]
    }
   ],
   "source": [
    "y_pred = clf.predict(X_test)"
   ]
  },
  {
   "cell_type": "code",
   "execution_count": 101,
   "id": "4480a9a5-bdb6-43ef-8844-19f48214b19f",
   "metadata": {},
   "outputs": [
    {
     "data": {
      "image/png": "[encoded data removed]",
      "text/plain": [
       "<Figure size 288x216 with 1 Axes>"
      ]
     },
     "metadata": {},
     "output_type": "display_data"
    }
   ],
   "source": [
    "plt.figure(figsize=(4, 3))\n",
    "plt.hist(y_test)\n",
    "plt.xlabel('Development Index')\n",
    "plt.ylabel('Count')\n",
    "plt.tight_layout()"
   ]
  },
  {
   "cell_type": "code",
   "execution_count": 102,
   "id": "8af6f3c8-6367-401e-9db9-dab3256153d5",
   "metadata": {},
   "outputs": [
    {
     "data": {
      "image/png": "[encoded data removed]",
      "text/plain": [
       "<Figure size 288x216 with 1 Axes>"
      ]
     },
     "metadata": {},
     "output_type": "display_data"
    }
   ],
   "source": [
    "plt.figure(figsize=(4, 3))\n",
    "plt.hist(y_pred)\n",
    "plt.xlabel('Development Index')\n",
    "plt.ylabel('Count')\n",
    "plt.tight_layout()"
   ]
  },
  {
   "cell_type": "code",
   "execution_count": 103,
   "id": "60ecf5c2-bc18-4cac-92dc-d3f6fab87ff5",
   "metadata": {},
   "outputs": [
    {
     "name": "stdout",
     "output_type": "stream",
     "text": [
      "Accuracy: 0.9852941176470589\n"
     ]
    }
   ],
   "source": [
    "print(\"Accuracy:\",metrics.accuracy_score(y_test, y_pred))"
   ]
  },
  {
   "cell_type": "code",
   "execution_count": 104,
   "id": "4d5edbac-e544-4cea-a667-cf3663175e7a",
   "metadata": {},
   "outputs": [
    {
     "name": "stdout",
     "output_type": "stream",
     "text": [
      "              precision    recall  f1-score   support\n",
      "\n",
      "           1       1.00      0.50      0.67         2\n",
      "           2       0.92      1.00      0.96        12\n",
      "           3       1.00      1.00      1.00        26\n",
      "           4       1.00      1.00      1.00        28\n",
      "\n",
      "    accuracy                           0.99        68\n",
      "   macro avg       0.98      0.88      0.91        68\n",
      "weighted avg       0.99      0.99      0.98        68\n",
      "\n"
     ]
    }
   ],
   "source": [
    "print(metrics.classification_report(y_test, y_pred))"
   ]
  },
  {
   "cell_type": "code",
   "execution_count": null,
   "id": "fd4c1e6e-3b8e-417e-9c2d-0e7abfc9b865",
   "metadata": {},
   "outputs": [],
   "source": []
  },
  {
   "cell_type": "code",
   "execution_count": null,
   "id": "663af329-7c70-4556-a1b2-52abdd008cbf",
   "metadata": {},
   "outputs": [],
   "source": []
  },
  {
   "cell_type": "code",
   "execution_count": null,
   "id": "5129fe84-bca3-4cb9-9f4d-d9fcaf684500",
   "metadata": {},
   "outputs": [],
   "source": []
  },
  {
   "cell_type": "code",
   "execution_count": null,
   "id": "1ab9c781-4fde-4f84-ae62-593b0f6e33dc",
   "metadata": {},
   "outputs": [],
   "source": []
  },
  {
   "cell_type": "code",
   "execution_count": null,
   "id": "956bc9fb-3c10-4f3a-8ea8-9c398a3ddd54",
   "metadata": {},
   "outputs": [],
   "source": []
  },
  {
   "cell_type": "code",
   "execution_count": null,
   "id": "62cf47f5-3572-465e-aa21-2aabb9888b8d",
   "metadata": {},
   "outputs": [],
   "source": []
  },
  {
   "cell_type": "code",
   "execution_count": null,
   "id": "48f7ef15-52a3-4410-ae7d-22ddea3b4d40",
   "metadata": {},
   "outputs": [],
   "source": []
  }
 ],
 "metadata": {
  "kernelspec": {
   "display_name": "Python 3",
   "language": "python",
   "name": "python3"
  },
  "language_info": {
   "codemirror_mode": {
    "name": "ipython",
    "version": 3
   },
   "file_extension": ".py",
   "mimetype": "text/x-python",
   "name": "python",
   "nbconvert_exporter": "python",
   "pygments_lexer": "ipython3",
   "version": "3.9.2"
  }
 },
 "nbformat": 4,
 "nbformat_minor": 5
}
