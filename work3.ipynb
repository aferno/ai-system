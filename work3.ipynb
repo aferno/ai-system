{
 "cells": [
  {
   "cell_type": "code",
   "execution_count": 21,
   "id": "3902d9d5-9529-48ba-8336-92282aaa5cda",
   "metadata": {},
   "outputs": [],
   "source": [
    "import pandas as pd\n",
    "import numpy as np\n",
    "from keras.models import Sequential\n",
    "from keras.layers import Dense\n",
    "from sklearn.model_selection import train_test_split\n",
    "from keras import backend as K\n",
    "from sklearn import metrics\n",
    "import matplotlib.pyplot as plt"
   ]
  },
  {
   "cell_type": "code",
   "execution_count": 22,
   "id": "3f01e111-2713-48f7-a529-995e8468eca3",
   "metadata": {},
   "outputs": [],
   "source": [
    "df = pd.read_csv('Development Index.csv')"
   ]
  },
  {
   "cell_type": "code",
   "execution_count": 23,
   "id": "2bb000fb-122d-4d7c-aa26-05b62ede9a36",
   "metadata": {},
   "outputs": [
    {
     "data": {
      "text/html": [
       "<div>\n",
       "<style scoped>\n",
       "    .dataframe tbody tr th:only-of-type {\n",
       "        vertical-align: middle;\n",
       "    }\n",
       "\n",
       "    .dataframe tbody tr th {\n",
       "        vertical-align: top;\n",
       "    }\n",
       "\n",
       "    .dataframe thead th {\n",
       "        text-align: right;\n",
       "    }\n",
       "</style>\n",
       "<table border=\"1\" class=\"dataframe\">\n",
       "  <thead>\n",
       "    <tr style=\"text-align: right;\">\n",
       "      <th></th>\n",
       "      <th>Population</th>\n",
       "      <th>Area (sq. mi.)</th>\n",
       "      <th>Pop. Density</th>\n",
       "      <th>GDP ($ per capita)</th>\n",
       "      <th>Literacy (%)</th>\n",
       "      <th>Infant mortality</th>\n",
       "      <th>Development Index</th>\n",
       "    </tr>\n",
       "  </thead>\n",
       "  <tbody>\n",
       "    <tr>\n",
       "      <th>0</th>\n",
       "      <td>9944201</td>\n",
       "      <td>1284000</td>\n",
       "      <td>7.7</td>\n",
       "      <td>1200</td>\n",
       "      <td>47.5</td>\n",
       "      <td>93.82</td>\n",
       "      <td>2</td>\n",
       "    </tr>\n",
       "    <tr>\n",
       "      <th>1</th>\n",
       "      <td>5450661</td>\n",
       "      <td>43094</td>\n",
       "      <td>126.5</td>\n",
       "      <td>31100</td>\n",
       "      <td>100.0</td>\n",
       "      <td>4.56</td>\n",
       "      <td>4</td>\n",
       "    </tr>\n",
       "    <tr>\n",
       "      <th>2</th>\n",
       "      <td>26783383</td>\n",
       "      <td>437072</td>\n",
       "      <td>61.3</td>\n",
       "      <td>1500</td>\n",
       "      <td>40.4</td>\n",
       "      <td>50.25</td>\n",
       "      <td>2</td>\n",
       "    </tr>\n",
       "    <tr>\n",
       "      <th>3</th>\n",
       "      <td>9439</td>\n",
       "      <td>102</td>\n",
       "      <td>92.5</td>\n",
       "      <td>3400</td>\n",
       "      <td>97.0</td>\n",
       "      <td>7.35</td>\n",
       "      <td>4</td>\n",
       "    </tr>\n",
       "    <tr>\n",
       "      <th>4</th>\n",
       "      <td>3431932</td>\n",
       "      <td>176220</td>\n",
       "      <td>19.5</td>\n",
       "      <td>12800</td>\n",
       "      <td>98.0</td>\n",
       "      <td>11.95</td>\n",
       "      <td>3</td>\n",
       "    </tr>\n",
       "  </tbody>\n",
       "</table>\n",
       "</div>"
      ],
      "text/plain": [
       "   Population  Area (sq. mi.)  Pop. Density   GDP ($ per capita)  \\\n",
       "0     9944201         1284000            7.7                1200   \n",
       "1     5450661           43094          126.5               31100   \n",
       "2    26783383          437072           61.3                1500   \n",
       "3        9439             102           92.5                3400   \n",
       "4     3431932          176220           19.5               12800   \n",
       "\n",
       "   Literacy (%)  Infant mortality   Development Index  \n",
       "0          47.5              93.82                  2  \n",
       "1         100.0               4.56                  4  \n",
       "2          40.4              50.25                  2  \n",
       "3          97.0               7.35                  4  \n",
       "4          98.0              11.95                  3  "
      ]
     },
     "execution_count": 23,
     "metadata": {},
     "output_type": "execute_result"
    }
   ],
   "source": [
    "df.head()"
   ]
  },
  {
   "cell_type": "code",
   "execution_count": 24,
   "id": "36c92014-c109-40d2-85b9-33a745d4044e",
   "metadata": {},
   "outputs": [
    {
     "data": {
      "image/png": "[encoded data removed]",
      "text/plain": [
       "<Figure size 432x288 with 9 Axes>"
      ]
     },
     "metadata": {
      "needs_background": "light"
     },
     "output_type": "display_data"
    }
   ],
   "source": [
    "hist = df.hist()"
   ]
  },
  {
   "cell_type": "code",
   "execution_count": 25,
   "id": "9e85bc8e-9ff2-48f2-943f-cddf3b68ab5e",
   "metadata": {},
   "outputs": [],
   "source": [
    "X=df[['Area (sq. mi.)', 'Population', 'GDP ($ per capita)']]  #, 'Literacy (%)', 'Infant mortality ', 'Pop. Density ']]\n",
    "y=df['Development Index']"
   ]
  },
  {
   "cell_type": "code",
   "execution_count": 26,
   "id": "af39b7d8-b74b-43a5-b68f-7a034ab71fd3",
   "metadata": {},
   "outputs": [],
   "source": [
    "X_train, X_test, y_train, y_test = train_test_split(X, y, test_size=0.3)"
   ]
  },
  {
   "cell_type": "code",
   "execution_count": 27,
   "id": "fc77be2c-c04b-498a-a8da-c675fbd02468",
   "metadata": {},
   "outputs": [],
   "source": [
    "def recall_m(y_true, y_pred):\n",
    "    true_positives = K.sum(K.round(K.clip(y_true * y_pred, 0, 1)))\n",
    "    possible_positives = K.sum(K.round(K.clip(y_true, 0, 1)))\n",
    "    recall = true_positives / (possible_positives + K.epsilon())\n",
    "    return recall\n",
    "\n",
    "def precision_m(y_true, y_pred):\n",
    "    true_positives = K.sum(K.round(K.clip(y_true * y_pred, 0, 1)))\n",
    "    predicted_positives = K.sum(K.round(K.clip(y_pred, 0, 1)))\n",
    "    precision = true_positives / (predicted_positives + K.epsilon())\n",
    "    return precision"
   ]
  },
  {
   "cell_type": "code",
   "execution_count": 35,
   "id": "06f7bf94-31a6-4bff-a486-360f81abb6db",
   "metadata": {},
   "outputs": [],
   "source": [
    "model = Sequential()\n",
    "model.add(Dense(9, input_dim=3, activation='elu'))\n",
    "model.add(Dense(9, activation='elu'))\n",
    "model.add(Dense(9, activation='elu'))\n",
    "model.add(Dense(1, activation='sigmoid'))"
   ]
  },
  {
   "cell_type": "code",
   "execution_count": 36,
   "id": "07531a67-1424-4be7-a61d-8a0af7603e33",
   "metadata": {},
   "outputs": [],
   "source": [
    "model.compile(loss='binary_crossentropy', optimizer='adagrad', metrics=['accuracy', recall_m, precision_m])"
   ]
  },
  {
   "cell_type": "code",
   "execution_count": 37,
   "id": "7e22ed1f-ffcb-4ac1-a424-921a4132f899",
   "metadata": {},
   "outputs": [
    {
     "name": "stdout",
     "output_type": "stream",
     "text": [
      "Epoch 1/100\n",
      "16/16 [==============================] - 2s 3ms/step - loss: -1163.3916 - accuracy: 0.0964 - recall_m: 1.0000 - precision_m: 1.0000\n",
      "Epoch 2/100\n",
      "16/16 [==============================] - 0s 3ms/step - loss: -4128.5453 - accuracy: 0.0294 - recall_m: 1.0000 - precision_m: 1.0000 \n",
      "Epoch 3/100\n",
      "16/16 [==============================] - 0s 3ms/step - loss: -4324.0307 - accuracy: 0.0497 - recall_m: 1.0000 - precision_m: 1.0000\n",
      "Epoch 4/100\n",
      "16/16 [==============================] - 0s 3ms/step - loss: -957.8991 - accuracy: 0.0775 - recall_m: 1.0000 - precision_m: 1.0000\n",
      "Epoch 5/100\n",
      "16/16 [==============================] - 0s 4ms/step - loss: -1001.1805 - accuracy: 0.0453 - recall_m: 1.0000 - precision_m: 1.0000\n",
      "Epoch 6/100\n",
      "16/16 [==============================] - 0s 5ms/step - loss: -1094.2999 - accuracy: 0.0637 - recall_m: 1.0000 - precision_m: 1.0000\n",
      "Epoch 7/100\n",
      "16/16 [==============================] - 0s 5ms/step - loss: -966.7459 - accuracy: 0.0759 - recall_m: 1.0000 - precision_m: 1.0000\n",
      "Epoch 8/100\n",
      "16/16 [==============================] - 0s 3ms/step - loss: -1860.4703 - accuracy: 0.0450 - recall_m: 1.0000 - precision_m: 1.0000\n",
      "Epoch 9/100\n",
      "16/16 [==============================] - 0s 3ms/step - loss: -808.9584 - accuracy: 0.0500 - recall_m: 1.0000 - precision_m: 1.0000\n",
      "Epoch 10/100\n",
      "16/16 [==============================] - 0s 3ms/step - loss: -1738.2274 - accuracy: 0.0766 - recall_m: 1.0000 - precision_m: 1.0000\n",
      "Epoch 11/100\n",
      "16/16 [==============================] - 0s 3ms/step - loss: -741.8733 - accuracy: 0.0890 - recall_m: 1.0000 - precision_m: 1.0000\n",
      "Epoch 12/100\n",
      "16/16 [==============================] - 0s 3ms/step - loss: -2005.6125 - accuracy: 0.0524 - recall_m: 1.0000 - precision_m: 1.0000\n",
      "Epoch 13/100\n",
      "16/16 [==============================] - 0s 3ms/step - loss: -2461.7179 - accuracy: 0.0679 - recall_m: 1.0000 - precision_m: 1.0000\n",
      "Epoch 14/100\n",
      "16/16 [==============================] - 0s 3ms/step - loss: -570.6390 - accuracy: 0.0436 - recall_m: 1.0000 - precision_m: 1.0000\n",
      "Epoch 15/100\n",
      "16/16 [==============================] - 0s 4ms/step - loss: -1460.6862 - accuracy: 0.0830 - recall_m: 1.0000 - precision_m: 1.0000\n",
      "Epoch 16/100\n",
      "16/16 [==============================] - 0s 4ms/step - loss: -2515.6965 - accuracy: 0.0764 - recall_m: 1.0000 - precision_m: 1.0000\n",
      "Epoch 17/100\n",
      "16/16 [==============================] - 0s 4ms/step - loss: -713.6201 - accuracy: 0.0525 - recall_m: 1.0000 - precision_m: 1.0000\n",
      "Epoch 18/100\n",
      "16/16 [==============================] - 0s 3ms/step - loss: -958.2071 - accuracy: 0.0480 - recall_m: 1.0000 - precision_m: 1.0000\n",
      "Epoch 19/100\n",
      "16/16 [==============================] - 0s 3ms/step - loss: -1163.3840 - accuracy: 0.0729 - recall_m: 1.0000 - precision_m: 1.0000\n",
      "Epoch 20/100\n",
      "16/16 [==============================] - 0s 3ms/step - loss: -702.2954 - accuracy: 0.0847 - recall_m: 1.0000 - precision_m: 1.0000\n",
      "Epoch 21/100\n",
      "16/16 [==============================] - 0s 3ms/step - loss: -1248.4047 - accuracy: 0.0740 - recall_m: 1.0000 - precision_m: 1.0000\n",
      "Epoch 22/100\n",
      "16/16 [==============================] - 0s 4ms/step - loss: -744.1967 - accuracy: 0.0656 - recall_m: 1.0000 - precision_m: 1.0000\n",
      "Epoch 23/100\n",
      "16/16 [==============================] - 0s 5ms/step - loss: -714.7469 - accuracy: 0.0689 - recall_m: 1.0000 - precision_m: 1.0000\n",
      "Epoch 24/100\n",
      "16/16 [==============================] - 0s 5ms/step - loss: -1688.7816 - accuracy: 0.0777 - recall_m: 1.0000 - precision_m: 1.0000\n",
      "Epoch 25/100\n",
      "16/16 [==============================] - 0s 4ms/step - loss: -3404.6941 - accuracy: 0.0327 - recall_m: 1.0000 - precision_m: 1.0000\n",
      "Epoch 26/100\n",
      "16/16 [==============================] - 0s 6ms/step - loss: -1471.3808 - accuracy: 0.0475 - recall_m: 1.0000 - precision_m: 1.0000\n",
      "Epoch 27/100\n",
      "16/16 [==============================] - 0s 3ms/step - loss: -930.6774 - accuracy: 0.0968 - recall_m: 1.0000 - precision_m: 1.0000\n",
      "Epoch 28/100\n",
      "16/16 [==============================] - 0s 5ms/step - loss: -4239.7768 - accuracy: 0.0300 - recall_m: 1.0000 - precision_m: 1.0000\n",
      "Epoch 29/100\n",
      "16/16 [==============================] - 0s 4ms/step - loss: -1517.0938 - accuracy: 0.0850 - recall_m: 1.0000 - precision_m: 1.0000\n",
      "Epoch 30/100\n",
      "16/16 [==============================] - 0s 5ms/step - loss: -734.5661 - accuracy: 0.0561 - recall_m: 1.0000 - precision_m: 1.0000\n",
      "Epoch 31/100\n",
      "16/16 [==============================] - 0s 3ms/step - loss: -735.4226 - accuracy: 0.0346 - recall_m: 1.0000 - precision_m: 1.0000\n",
      "Epoch 32/100\n",
      "16/16 [==============================] - 0s 2ms/step - loss: -7078.1408 - accuracy: 0.0652 - recall_m: 1.0000 - precision_m: 1.0000\n",
      "Epoch 33/100\n",
      "16/16 [==============================] - 0s 3ms/step - loss: -4335.0640 - accuracy: 0.0680 - recall_m: 1.0000 - precision_m: 1.0000\n",
      "Epoch 34/100\n",
      "16/16 [==============================] - 0s 4ms/step - loss: -2241.2430 - accuracy: 0.0521 - recall_m: 1.0000 - precision_m: 1.0000\n",
      "Epoch 35/100\n",
      "16/16 [==============================] - 0s 3ms/step - loss: -7789.5487 - accuracy: 0.0626 - recall_m: 1.0000 - precision_m: 1.0000\n",
      "Epoch 36/100\n",
      "16/16 [==============================] - 0s 4ms/step - loss: -3290.6331 - accuracy: 0.0528 - recall_m: 1.0000 - precision_m: 1.0000\n",
      "Epoch 37/100\n",
      "16/16 [==============================] - 0s 5ms/step - loss: -1651.6966 - accuracy: 0.0552 - recall_m: 1.0000 - precision_m: 1.0000\n",
      "Epoch 38/100\n",
      "16/16 [==============================] - 0s 3ms/step - loss: -2262.6629 - accuracy: 0.0638 - recall_m: 1.0000 - precision_m: 1.0000\n",
      "Epoch 39/100\n",
      "16/16 [==============================] - 0s 4ms/step - loss: -2531.6519 - accuracy: 0.0547 - recall_m: 1.0000 - precision_m: 1.0000\n",
      "Epoch 40/100\n",
      "16/16 [==============================] - 0s 3ms/step - loss: -1118.3433 - accuracy: 0.0416 - recall_m: 1.0000 - precision_m: 1.0000\n",
      "Epoch 41/100\n",
      "16/16 [==============================] - 0s 5ms/step - loss: -2750.1206 - accuracy: 0.0474 - recall_m: 1.0000 - precision_m: 1.0000\n",
      "Epoch 42/100\n",
      "16/16 [==============================] - 0s 7ms/step - loss: -5720.6868 - accuracy: 0.0321 - recall_m: 1.0000 - precision_m: 1.0000\n",
      "Epoch 43/100\n",
      "16/16 [==============================] - 0s 6ms/step - loss: -1076.3785 - accuracy: 0.0517 - recall_m: 1.0000 - precision_m: 1.0000\n",
      "Epoch 44/100\n",
      "16/16 [==============================] - 0s 4ms/step - loss: -2657.7402 - accuracy: 0.0842 - recall_m: 1.0000 - precision_m: 1.0000\n",
      "Epoch 45/100\n",
      "16/16 [==============================] - 0s 3ms/step - loss: -3164.8677 - accuracy: 0.0612 - recall_m: 1.0000 - precision_m: 1.0000\n",
      "Epoch 46/100\n",
      "16/16 [==============================] - 0s 3ms/step - loss: -4265.6454 - accuracy: 0.0634 - recall_m: 1.0000 - precision_m: 1.0000\n",
      "Epoch 47/100\n",
      "16/16 [==============================] - 0s 4ms/step - loss: -1419.1467 - accuracy: 0.0462 - recall_m: 1.0000 - precision_m: 1.0000\n",
      "Epoch 48/100\n",
      "16/16 [==============================] - 0s 6ms/step - loss: -6142.7371 - accuracy: 0.0564 - recall_m: 1.0000 - precision_m: 1.0000\n",
      "Epoch 49/100\n",
      "16/16 [==============================] - 0s 2ms/step - loss: -8345.5853 - accuracy: 0.0645 - recall_m: 1.0000 - precision_m: 1.0000 \n",
      "Epoch 50/100\n",
      "16/16 [==============================] - 0s 4ms/step - loss: -5868.1673 - accuracy: 0.0593 - recall_m: 1.0000 - precision_m: 1.0000\n",
      "Epoch 51/100\n",
      "16/16 [==============================] - 0s 4ms/step - loss: -2228.7729 - accuracy: 0.0759 - recall_m: 1.0000 - precision_m: 1.0000\n",
      "Epoch 52/100\n",
      "16/16 [==============================] - 0s 5ms/step - loss: -2911.1672 - accuracy: 0.0606 - recall_m: 1.0000 - precision_m: 1.0000\n",
      "Epoch 53/100\n",
      "16/16 [==============================] - 0s 7ms/step - loss: -9052.8533 - accuracy: 0.0482 - recall_m: 1.0000 - precision_m: 1.0000\n",
      "Epoch 54/100\n",
      "16/16 [==============================] - 0s 5ms/step - loss: -5433.0512 - accuracy: 0.0586 - recall_m: 1.0000 - precision_m: 1.0000\n",
      "Epoch 55/100\n",
      "16/16 [==============================] - 0s 3ms/step - loss: -4241.1200 - accuracy: 0.0450 - recall_m: 1.0000 - precision_m: 1.0000\n",
      "Epoch 56/100\n",
      "16/16 [==============================] - 0s 3ms/step - loss: -4489.5173 - accuracy: 0.0913 - recall_m: 1.0000 - precision_m: 1.0000\n",
      "Epoch 57/100\n",
      "16/16 [==============================] - 0s 6ms/step - loss: -3057.9856 - accuracy: 0.0549 - recall_m: 1.0000 - precision_m: 1.0000\n",
      "Epoch 58/100\n",
      "16/16 [==============================] - 0s 5ms/step - loss: -4309.8706 - accuracy: 0.0638 - recall_m: 1.0000 - precision_m: 1.0000\n",
      "Epoch 59/100\n",
      "16/16 [==============================] - 0s 6ms/step - loss: -2453.1605 - accuracy: 0.0719 - recall_m: 1.0000 - precision_m: 1.0000\n",
      "Epoch 60/100\n",
      "16/16 [==============================] - 0s 5ms/step - loss: -1830.2468 - accuracy: 0.0562 - recall_m: 1.0000 - precision_m: 1.0000\n",
      "Epoch 61/100\n",
      "16/16 [==============================] - 0s 3ms/step - loss: -2560.2579 - accuracy: 0.0717 - recall_m: 1.0000 - precision_m: 1.0000\n",
      "Epoch 62/100\n",
      "16/16 [==============================] - 0s 3ms/step - loss: -3704.8979 - accuracy: 0.0552 - recall_m: 1.0000 - precision_m: 1.0000\n",
      "Epoch 63/100\n",
      "16/16 [==============================] - 0s 4ms/step - loss: -4834.7137 - accuracy: 0.0438 - recall_m: 1.0000 - precision_m: 1.0000\n",
      "Epoch 64/100\n",
      "16/16 [==============================] - 0s 4ms/step - loss: -3158.0948 - accuracy: 0.0737 - recall_m: 1.0000 - precision_m: 1.0000\n",
      "Epoch 65/100\n",
      "16/16 [==============================] - 0s 6ms/step - loss: -2130.6117 - accuracy: 0.0627 - recall_m: 1.0000 - precision_m: 1.0000\n",
      "Epoch 66/100\n",
      "16/16 [==============================] - 0s 4ms/step - loss: -2376.4305 - accuracy: 0.0813 - recall_m: 1.0000 - precision_m: 1.0000\n",
      "Epoch 67/100\n",
      "16/16 [==============================] - 0s 5ms/step - loss: -2457.0019 - accuracy: 0.0441 - recall_m: 1.0000 - precision_m: 1.0000\n",
      "Epoch 68/100\n",
      "16/16 [==============================] - 0s 5ms/step - loss: -3286.9843 - accuracy: 0.0522 - recall_m: 1.0000 - precision_m: 1.0000\n",
      "Epoch 69/100\n",
      "16/16 [==============================] - 0s 4ms/step - loss: -7322.7248 - accuracy: 0.0207 - recall_m: 1.0000 - precision_m: 1.0000\n",
      "Epoch 70/100\n",
      "16/16 [==============================] - 0s 6ms/step - loss: -4355.8313 - accuracy: 0.0450 - recall_m: 1.0000 - precision_m: 1.0000\n",
      "Epoch 71/100\n",
      "16/16 [==============================] - 0s 5ms/step - loss: -1650.4387 - accuracy: 0.0511 - recall_m: 1.0000 - precision_m: 1.0000\n",
      "Epoch 72/100\n",
      "16/16 [==============================] - 0s 3ms/step - loss: -3438.8960 - accuracy: 0.0634 - recall_m: 1.0000 - precision_m: 1.0000\n",
      "Epoch 73/100\n",
      "16/16 [==============================] - 0s 5ms/step - loss: -4860.9353 - accuracy: 0.0608 - recall_m: 1.0000 - precision_m: 1.0000\n",
      "Epoch 74/100\n",
      "16/16 [==============================] - 0s 6ms/step - loss: -3146.3184 - accuracy: 0.0446 - recall_m: 1.0000 - precision_m: 1.0000\n",
      "Epoch 75/100\n",
      "16/16 [==============================] - 0s 6ms/step - loss: -2927.1294 - accuracy: 0.0835 - recall_m: 1.0000 - precision_m: 1.0000\n",
      "Epoch 76/100\n",
      "16/16 [==============================] - 0s 4ms/step - loss: -8119.0783 - accuracy: 0.0385 - recall_m: 1.0000 - precision_m: 1.0000\n",
      "Epoch 77/100\n",
      "16/16 [==============================] - 0s 3ms/step - loss: -4175.2413 - accuracy: 0.0501 - recall_m: 1.0000 - precision_m: 1.0000\n",
      "Epoch 78/100\n",
      "16/16 [==============================] - 0s 4ms/step - loss: -3565.6974 - accuracy: 0.0744 - recall_m: 1.0000 - precision_m: 1.0000\n",
      "Epoch 79/100\n",
      "16/16 [==============================] - 0s 6ms/step - loss: -5054.2067 - accuracy: 0.0442 - recall_m: 1.0000 - precision_m: 1.0000\n",
      "Epoch 80/100\n",
      "16/16 [==============================] - 0s 6ms/step - loss: -6641.7248 - accuracy: 0.0384 - recall_m: 1.0000 - precision_m: 1.0000\n",
      "Epoch 81/100\n",
      "16/16 [==============================] - 0s 5ms/step - loss: -1762.4281 - accuracy: 0.0579 - recall_m: 1.0000 - precision_m: 1.0000\n",
      "Epoch 82/100\n",
      "16/16 [==============================] - 0s 4ms/step - loss: -10835.2029 - accuracy: 0.0878 - recall_m: 1.0000 - precision_m: 1.0000\n",
      "Epoch 83/100\n",
      "16/16 [==============================] - 0s 3ms/step - loss: -11631.4618 - accuracy: 0.0968 - recall_m: 1.0000 - precision_m: 1.0000\n",
      "Epoch 84/100\n",
      "16/16 [==============================] - 0s 4ms/step - loss: -4826.4753 - accuracy: 0.0653 - recall_m: 1.0000 - precision_m: 1.0000\n",
      "Epoch 85/100\n",
      "16/16 [==============================] - 0s 4ms/step - loss: -6372.7955 - accuracy: 0.0524 - recall_m: 1.0000 - precision_m: 1.0000\n",
      "Epoch 86/100\n",
      "16/16 [==============================] - 0s 4ms/step - loss: -3701.1098 - accuracy: 0.0515 - recall_m: 1.0000 - precision_m: 1.0000\n",
      "Epoch 87/100\n",
      "16/16 [==============================] - 0s 5ms/step - loss: -2404.1643 - accuracy: 0.0823 - recall_m: 1.0000 - precision_m: 1.0000\n",
      "Epoch 88/100\n",
      "16/16 [==============================] - 0s 6ms/step - loss: -2190.7137 - accuracy: 0.0799 - recall_m: 1.0000 - precision_m: 1.0000\n",
      "Epoch 89/100\n",
      "16/16 [==============================] - 0s 6ms/step - loss: -6716.0918 - accuracy: 0.0936 - recall_m: 1.0000 - precision_m: 1.0000\n",
      "Epoch 90/100\n",
      "16/16 [==============================] - 0s 5ms/step - loss: -5039.2044 - accuracy: 0.0439 - recall_m: 1.0000 - precision_m: 1.0000\n",
      "Epoch 91/100\n",
      "16/16 [==============================] - 0s 3ms/step - loss: -5709.8352 - accuracy: 0.0791 - recall_m: 1.0000 - precision_m: 1.0000\n",
      "Epoch 92/100\n",
      "16/16 [==============================] - 0s 3ms/step - loss: -3755.1996 - accuracy: 0.0649 - recall_m: 1.0000 - precision_m: 1.0000\n",
      "Epoch 93/100\n",
      "16/16 [==============================] - 0s 4ms/step - loss: -3912.8239 - accuracy: 0.0803 - recall_m: 1.0000 - precision_m: 1.0000\n",
      "Epoch 94/100\n",
      "16/16 [==============================] - 0s 2ms/step - loss: -5923.0323 - accuracy: 0.0700 - recall_m: 1.0000 - precision_m: 1.0000\n",
      "Epoch 95/100\n",
      "16/16 [==============================] - 0s 4ms/step - loss: -12108.4601 - accuracy: 0.0550 - recall_m: 1.0000 - precision_m: 1.0000\n",
      "Epoch 96/100\n",
      "16/16 [==============================] - 0s 5ms/step - loss: -2827.8403 - accuracy: 0.0698 - recall_m: 1.0000 - precision_m: 1.0000\n",
      "Epoch 97/100\n",
      "16/16 [==============================] - 0s 6ms/step - loss: -6734.9162 - accuracy: 0.0628 - recall_m: 1.0000 - precision_m: 1.0000\n",
      "Epoch 98/100\n",
      "16/16 [==============================] - 0s 6ms/step - loss: -3995.8761 - accuracy: 0.0499 - recall_m: 1.0000 - precision_m: 1.0000\n",
      "Epoch 99/100\n",
      "16/16 [==============================] - 0s 3ms/step - loss: -12098.6490 - accuracy: 0.0539 - recall_m: 1.0000 - precision_m: 1.0000\n",
      "Epoch 100/100\n",
      "16/16 [==============================] - 0s 3ms/step - loss: -5650.3890 - accuracy: 0.0995 - recall_m: 1.0000 - precision_m: 1.0000\n"
     ]
    },
    {
     "data": {
      "text/plain": [
       "<keras.callbacks.History at 0x7f9710317ee0>"
      ]
     },
     "execution_count": 37,
     "metadata": {},
     "output_type": "execute_result"
    }
   ],
   "source": [
    "model.fit(X_train, y_train, epochs=100, batch_size=10, verbose=1)"
   ]
  },
  {
   "cell_type": "code",
   "execution_count": 38,
   "id": "8447ac45-8b46-4916-a75a-b098e3916b20",
   "metadata": {},
   "outputs": [
    {
     "name": "stdout",
     "output_type": "stream",
     "text": [
      "5/5 [==============================] - 1s 2ms/step - loss: -5655.8633 - accuracy: 0.0637 - recall_m: 1.0000 - precision_m: 1.0000\n",
      "Accuracy: 6.37\n"
     ]
    }
   ],
   "source": [
    "_, accuracy, recall, precision = model.evaluate(X_train, y_train)\n",
    "print('Accuracy: %.2f' % (accuracy*100))"
   ]
  },
  {
   "cell_type": "code",
   "execution_count": null,
   "id": "4da4e5f1-2928-488e-86bd-ef69ca58e75e",
   "metadata": {},
   "outputs": [],
   "source": []
  },
  {
   "cell_type": "code",
   "execution_count": 39,
   "id": "cdc36015-e49d-4391-9ec4-eb0ab619f8d4",
   "metadata": {},
   "outputs": [],
   "source": [
    "predictions = model.predict(X_test)"
   ]
  },
  {
   "cell_type": "code",
   "execution_count": 40,
   "id": "4480a9a5-bdb6-43ef-8844-19f48214b19f",
   "metadata": {},
   "outputs": [
    {
     "data": {
      "image/png": "[encoded data removed]",
      "text/plain": [
       "<Figure size 288x216 with 1 Axes>"
      ]
     },
     "metadata": {
      "needs_background": "light"
     },
     "output_type": "display_data"
    }
   ],
   "source": [
    "plt.figure(figsize=(4, 3))\n",
    "plt.hist(predictions)\n",
    "plt.xlabel('Development Index')\n",
    "plt.ylabel('Count')\n",
    "plt.tight_layout()"
   ]
  },
  {
   "cell_type": "code",
   "execution_count": 41,
   "id": "8af6f3c8-6367-401e-9db9-dab3256153d5",
   "metadata": {},
   "outputs": [
    {
     "data": {
      "image/png": "[encoded data removed]",
      "text/plain": [
       "<Figure size 288x216 with 1 Axes>"
      ]
     },
     "metadata": {
      "needs_background": "light"
     },
     "output_type": "display_data"
    }
   ],
   "source": [
    "plt.figure(figsize=(4, 3))\n",
    "plt.hist(y_test)\n",
    "plt.xlabel('Development Index')\n",
    "plt.ylabel('Count')\n",
    "plt.tight_layout()"
   ]
  },
  {
   "cell_type": "code",
   "execution_count": null,
   "id": "60ecf5c2-bc18-4cac-92dc-d3f6fab87ff5",
   "metadata": {},
   "outputs": [],
   "source": []
  },
  {
   "cell_type": "code",
   "execution_count": null,
   "id": "4d5edbac-e544-4cea-a667-cf3663175e7a",
   "metadata": {},
   "outputs": [],
   "source": []
  },
  {
   "cell_type": "code",
   "execution_count": null,
   "id": "fd4c1e6e-3b8e-417e-9c2d-0e7abfc9b865",
   "metadata": {},
   "outputs": [],
   "source": []
  },
  {
   "cell_type": "code",
   "execution_count": null,
   "id": "663af329-7c70-4556-a1b2-52abdd008cbf",
   "metadata": {},
   "outputs": [],
   "source": []
  },
  {
   "cell_type": "code",
   "execution_count": null,
   "id": "5129fe84-bca3-4cb9-9f4d-d9fcaf684500",
   "metadata": {},
   "outputs": [],
   "source": []
  },
  {
   "cell_type": "code",
   "execution_count": null,
   "id": "1ab9c781-4fde-4f84-ae62-593b0f6e33dc",
   "metadata": {},
   "outputs": [],
   "source": []
  },
  {
   "cell_type": "code",
   "execution_count": null,
   "id": "956bc9fb-3c10-4f3a-8ea8-9c398a3ddd54",
   "metadata": {},
   "outputs": [],
   "source": []
  },
  {
   "cell_type": "code",
   "execution_count": null,
   "id": "62cf47f5-3572-465e-aa21-2aabb9888b8d",
   "metadata": {},
   "outputs": [],
   "source": []
  },
  {
   "cell_type": "code",
   "execution_count": null,
   "id": "48f7ef15-52a3-4410-ae7d-22ddea3b4d40",
   "metadata": {},
   "outputs": [],
   "source": []
  }
 ],
 "metadata": {
  "kernelspec": {
   "display_name": "Python 3",
   "language": "python",
   "name": "python3"
  },
  "language_info": {
   "codemirror_mode": {
    "name": "ipython",
    "version": 3
   },
   "file_extension": ".py",
   "mimetype": "text/x-python",
   "name": "python",
   "nbconvert_exporter": "python",
   "pygments_lexer": "ipython3",
   "version": "3.9.2"
  }
 },
 "nbformat": 4,
 "nbformat_minor": 5
}
